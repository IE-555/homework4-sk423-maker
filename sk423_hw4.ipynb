{
 "cells": [
  {
   "cell_type": "code",
   "execution_count": null,
   "id": "85cd6a8f",
   "metadata": {},
   "outputs": [],
   "source": [
    "import numpy as np\n",
    "import matplotlib.pyplot as plt\n",
    "\n",
    "# Generate synthetic data for average monthly temperatures (in Celsius)\n",
    "months = np.arange(1, 13)  # Months from January to December\n",
    "avg_temperatures = [5.2, 5.9, 8.3, 13.1, 18.1, 22.1, 25.5, 25.3, 21.1, 15.1, 10.1, 6.0]  # Average temperatures for each month\n",
    "\n",
    "# Create a polar plot\n",
    "plt.figure(figsize=(8, 8))\n",
    "ax = plt.subplot(111, polar=True)\n",
    "\n",
    "# Convert months to radians for the polar plot\n",
    "months_rad = np.radians(np.linspace(0, 360, len(months), endpoint=False))\n",
    "\n",
    "# Plot average temperatures as a line on the polar plot\n",
    "ax.plot(months_rad, avg_temperatures, marker='o', linestyle='-')\n",
    "\n",
    "# Set labels for each month\n",
    "ax.set_xticks(months_rad)\n",
    "ax.set_xticklabels(['Jan', 'Feb', 'Mar', 'Apr', 'May', 'Jun', 'Jul', 'Aug', 'Sep', 'Oct', 'Nov', 'Dec'])\n",
    "\n",
    "# Set radial gridlines\n",
    "ax.set_yticks([0, 5, 10, 15, 20, 25, 30])\n",
    "ax.grid(True)\n",
    "\n",
    "# Add a title\n",
    "plt.title('Average Monthly Temperatures', va='bottom')\n",
    "\n",
    "# Show the polar plot\n",
    "plt.show()"
   ]
  }
 ],
 "metadata": {
  "kernelspec": {
   "display_name": "Python 3 (ipykernel)",
   "language": "python",
   "name": "python3"
  },
  "language_info": {
   "codemirror_mode": {
    "name": "ipython",
    "version": 3
   },
   "file_extension": ".py",
   "mimetype": "text/x-python",
   "name": "python",
   "nbconvert_exporter": "python",
   "pygments_lexer": "ipython3",
   "version": "3.11.4"
  }
 },
 "nbformat": 4,
 "nbformat_minor": 5
}
